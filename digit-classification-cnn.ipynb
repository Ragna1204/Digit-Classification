{
 "cells": [
  {
   "cell_type": "code",
   "execution_count": 1,
   "id": "34df8429",
   "metadata": {
    "_cell_guid": "b1076dfc-b9ad-4769-8c92-a6c4dae69d19",
    "_uuid": "8f2839f25d086af736a60e9eeb907d3b93b6e0e5",
    "execution": {
     "iopub.execute_input": "2025-05-28T08:00:45.972535Z",
     "iopub.status.busy": "2025-05-28T08:00:45.972250Z",
     "iopub.status.idle": "2025-05-28T08:00:53.180217Z",
     "shell.execute_reply": "2025-05-28T08:00:53.179367Z"
    },
    "papermill": {
     "duration": 7.213615,
     "end_time": "2025-05-28T08:00:53.181805",
     "exception": false,
     "start_time": "2025-05-28T08:00:45.968190",
     "status": "completed"
    },
    "tags": []
   },
   "outputs": [],
   "source": [
    "import numpy as np\n",
    "import pandas as pd\n",
    "import matplotlib.pyplot as plt\n",
    "import torch\n",
    "import torch.nn as nn\n",
    "import torch.nn.functional as F\n",
    "import torch.optim as optim\n",
    "from torch.utils.data import TensorDataset, DataLoader\n",
    "from sklearn.model_selection import train_test_split"
   ]
  },
  {
   "cell_type": "code",
   "execution_count": 2,
   "id": "6cd03d8a",
   "metadata": {
    "execution": {
     "iopub.execute_input": "2025-05-28T08:00:53.187894Z",
     "iopub.status.busy": "2025-05-28T08:00:53.187500Z",
     "iopub.status.idle": "2025-05-28T08:00:56.578067Z",
     "shell.execute_reply": "2025-05-28T08:00:56.577232Z"
    },
    "papermill": {
     "duration": 3.394991,
     "end_time": "2025-05-28T08:00:56.579605",
     "exception": false,
     "start_time": "2025-05-28T08:00:53.184614",
     "status": "completed"
    },
    "tags": []
   },
   "outputs": [],
   "source": [
    "data = pd.read_csv(\"/kaggle/input/digit-recognizer/train.csv\").values\n",
    "np.random.shuffle(data)"
   ]
  },
  {
   "cell_type": "code",
   "execution_count": 3,
   "id": "d9cc2792",
   "metadata": {
    "execution": {
     "iopub.execute_input": "2025-05-28T08:00:56.584971Z",
     "iopub.status.busy": "2025-05-28T08:00:56.584753Z",
     "iopub.status.idle": "2025-05-28T08:00:56.690558Z",
     "shell.execute_reply": "2025-05-28T08:00:56.690015Z"
    },
    "papermill": {
     "duration": 0.109979,
     "end_time": "2025-05-28T08:00:56.692029",
     "exception": false,
     "start_time": "2025-05-28T08:00:56.582050",
     "status": "completed"
    },
    "tags": []
   },
   "outputs": [],
   "source": [
    "X = data[:, 1:] / 255.0\n",
    "Y = data[:, 0]\n",
    "#X: pixel data, normalized from [0, 255] to [0, 1]."
   ]
  },
  {
   "cell_type": "code",
   "execution_count": 4,
   "id": "b5555916",
   "metadata": {
    "execution": {
     "iopub.execute_input": "2025-05-28T08:00:56.697656Z",
     "iopub.status.busy": "2025-05-28T08:00:56.697409Z",
     "iopub.status.idle": "2025-05-28T08:00:56.751351Z",
     "shell.execute_reply": "2025-05-28T08:00:56.750783Z"
    },
    "papermill": {
     "duration": 0.05838,
     "end_time": "2025-05-28T08:00:56.752831",
     "exception": false,
     "start_time": "2025-05-28T08:00:56.694451",
     "status": "completed"
    },
    "tags": []
   },
   "outputs": [],
   "source": [
    "X = X.reshape(-1, 1, 28, 28).astype(np.float32)\n",
    "Y = Y.astype(np.int64)\n",
    "# [batch_size, channels, height, width] = [N, 1, 28, 28]"
   ]
  },
  {
   "cell_type": "code",
   "execution_count": 5,
   "id": "127eb5df",
   "metadata": {
    "execution": {
     "iopub.execute_input": "2025-05-28T08:00:56.758630Z",
     "iopub.status.busy": "2025-05-28T08:00:56.758383Z",
     "iopub.status.idle": "2025-05-28T08:00:57.151041Z",
     "shell.execute_reply": "2025-05-28T08:00:57.150408Z"
    },
    "papermill": {
     "duration": 0.397091,
     "end_time": "2025-05-28T08:00:57.152418",
     "exception": false,
     "start_time": "2025-05-28T08:00:56.755327",
     "status": "completed"
    },
    "tags": []
   },
   "outputs": [],
   "source": [
    "X_train, X_dev, Y_train, Y_dev = train_test_split(X, Y, test_size=0.1, random_state=42)\n",
    "# 90% for training, 10% for testing\n",
    "X_train_tensor = torch.tensor(X_train)\n",
    "Y_train_tensor = torch.tensor(Y_train)\n",
    "X_dev_tensor = torch.tensor(X_dev)\n",
    "Y_dev_tensor = torch.tensor(Y_dev)"
   ]
  },
  {
   "cell_type": "code",
   "execution_count": 6,
   "id": "4303b049",
   "metadata": {
    "execution": {
     "iopub.execute_input": "2025-05-28T08:00:57.158826Z",
     "iopub.status.busy": "2025-05-28T08:00:57.158603Z",
     "iopub.status.idle": "2025-05-28T08:00:57.165094Z",
     "shell.execute_reply": "2025-05-28T08:00:57.164593Z"
    },
    "papermill": {
     "duration": 0.010769,
     "end_time": "2025-05-28T08:00:57.166068",
     "exception": false,
     "start_time": "2025-05-28T08:00:57.155299",
     "status": "completed"
    },
    "tags": []
   },
   "outputs": [],
   "source": [
    "train_dataset = TensorDataset(X_train_tensor, Y_train_tensor)\n",
    "dev_dataset = TensorDataset(X_dev_tensor, Y_dev_tensor)\n",
    "\n",
    "train_loader = DataLoader(train_dataset, batch_size=64, shuffle=True)\n",
    "dev_loader = DataLoader(dev_dataset, batch_size=64, shuffle=False)\n",
    "#batch size 64 is batch training"
   ]
  },
  {
   "cell_type": "code",
   "execution_count": 7,
   "id": "694ce20f",
   "metadata": {
    "execution": {
     "iopub.execute_input": "2025-05-28T08:00:57.170974Z",
     "iopub.status.busy": "2025-05-28T08:00:57.170769Z",
     "iopub.status.idle": "2025-05-28T08:00:57.175991Z",
     "shell.execute_reply": "2025-05-28T08:00:57.175440Z"
    },
    "papermill": {
     "duration": 0.008851,
     "end_time": "2025-05-28T08:00:57.177080",
     "exception": false,
     "start_time": "2025-05-28T08:00:57.168229",
     "status": "completed"
    },
    "tags": []
   },
   "outputs": [],
   "source": [
    "class CNN(nn.Module):\n",
    "    def __init__(self):\n",
    "        super(CNN, self).__init__()\n",
    "        self.conv1 = nn.Conv2d(1, 32, kernel_size=3, padding=1)\n",
    "        self.pool = nn.MaxPool2d(2, 2)\n",
    "        self.conv2 = nn.Conv2d(32, 64, kernel_size=3, padding=1)\n",
    "        self.fc1 = nn.Linear(64 * 7 * 7, 128)\n",
    "        self.fc2 = nn.Linear(128, 10)\n",
    "\n",
    "    def forward(self, x):\n",
    "        x = self.pool(F.relu(self.conv1(x)))   # → [batch, 32, 14, 14]\n",
    "        x = self.pool(F.relu(self.conv2(x)))   # → [batch, 64, 7, 7]\n",
    "        x = x.view(-1, 64 * 7 * 7)             # Flatten\n",
    "        x = F.relu(self.fc1(x))\n",
    "        x = self.fc2(x)\n",
    "        return x"
   ]
  },
  {
   "cell_type": "code",
   "execution_count": 8,
   "id": "862ad917",
   "metadata": {
    "execution": {
     "iopub.execute_input": "2025-05-28T08:00:57.181920Z",
     "iopub.status.busy": "2025-05-28T08:00:57.181718Z",
     "iopub.status.idle": "2025-05-28T08:01:01.702455Z",
     "shell.execute_reply": "2025-05-28T08:01:01.701869Z"
    },
    "papermill": {
     "duration": 4.52473,
     "end_time": "2025-05-28T08:01:01.703896",
     "exception": false,
     "start_time": "2025-05-28T08:00:57.179166",
     "status": "completed"
    },
    "tags": []
   },
   "outputs": [],
   "source": [
    "model = CNN()\n",
    "criterion = nn.CrossEntropyLoss()\n",
    "optimizer = optim.Adam(model.parameters(), lr=0.001)"
   ]
  },
  {
   "cell_type": "code",
   "execution_count": 9,
   "id": "c7acdd86",
   "metadata": {
    "execution": {
     "iopub.execute_input": "2025-05-28T08:01:01.709448Z",
     "iopub.status.busy": "2025-05-28T08:01:01.709052Z",
     "iopub.status.idle": "2025-05-28T08:03:34.077462Z",
     "shell.execute_reply": "2025-05-28T08:03:34.076684Z"
    },
    "papermill": {
     "duration": 152.375678,
     "end_time": "2025-05-28T08:03:34.081979",
     "exception": false,
     "start_time": "2025-05-28T08:01:01.706301",
     "status": "completed"
    },
    "tags": []
   },
   "outputs": [
    {
     "name": "stdout",
     "output_type": "stream",
     "text": [
      "Epoch 1/10, Loss: 0.1218\n",
      "Epoch 2/10, Loss: 0.0754\n",
      "Epoch 3/10, Loss: 0.2218\n",
      "Epoch 4/10, Loss: 0.0603\n",
      "Epoch 5/10, Loss: 0.0002\n",
      "Epoch 6/10, Loss: 0.0059\n",
      "Epoch 7/10, Loss: 0.0332\n",
      "Epoch 8/10, Loss: 0.0007\n",
      "Epoch 9/10, Loss: 0.0167\n",
      "Epoch 10/10, Loss: 0.0351\n"
     ]
    }
   ],
   "source": [
    "epochs = 10\n",
    "for epoch in range(epochs):\n",
    "    model.train()\n",
    "    for X_batch, Y_batch in train_loader:\n",
    "        outputs = model(X_batch)\n",
    "        loss = criterion(outputs, Y_batch)\n",
    "\n",
    "        optimizer.zero_grad()\n",
    "        loss.backward()\n",
    "        optimizer.step()\n",
    "\n",
    "    print(f\"Epoch {epoch+1}/{epochs}, Loss: {loss.item():.4f}\")"
   ]
  },
  {
   "cell_type": "code",
   "execution_count": 10,
   "id": "40acf364",
   "metadata": {
    "execution": {
     "iopub.execute_input": "2025-05-28T08:03:34.089504Z",
     "iopub.status.busy": "2025-05-28T08:03:34.089216Z",
     "iopub.status.idle": "2025-05-28T08:03:34.859076Z",
     "shell.execute_reply": "2025-05-28T08:03:34.858234Z"
    },
    "papermill": {
     "duration": 0.775241,
     "end_time": "2025-05-28T08:03:34.860487",
     "exception": false,
     "start_time": "2025-05-28T08:03:34.085246",
     "status": "completed"
    },
    "tags": []
   },
   "outputs": [
    {
     "name": "stdout",
     "output_type": "stream",
     "text": [
      "Validation Accuracy: 98.45%\n"
     ]
    }
   ],
   "source": [
    "model.eval()\n",
    "correct = 0\n",
    "total = 0\n",
    "with torch.no_grad():\n",
    "    for X_batch, Y_batch in dev_loader:\n",
    "        outputs = model(X_batch)\n",
    "        _, predicted = torch.max(outputs, 1)\n",
    "        total += Y_batch.size(0)\n",
    "        correct += (predicted == Y_batch).sum().item()\n",
    "\n",
    "print(f\"Validation Accuracy: {100 * correct / total:.2f}%\")"
   ]
  },
  {
   "cell_type": "code",
   "execution_count": 11,
   "id": "44672f98",
   "metadata": {
    "execution": {
     "iopub.execute_input": "2025-05-28T08:03:34.867036Z",
     "iopub.status.busy": "2025-05-28T08:03:34.866801Z",
     "iopub.status.idle": "2025-05-28T08:03:34.871226Z",
     "shell.execute_reply": "2025-05-28T08:03:34.870676Z"
    },
    "papermill": {
     "duration": 0.009066,
     "end_time": "2025-05-28T08:03:34.872483",
     "exception": false,
     "start_time": "2025-05-28T08:03:34.863417",
     "status": "completed"
    },
    "tags": []
   },
   "outputs": [],
   "source": [
    "def test_prediction(index):\n",
    "    image = X_dev_tensor[index]\n",
    "    label = Y_dev_tensor[index].item()\n",
    "\n",
    "    model.eval()\n",
    "    with torch.no_grad():\n",
    "        output = model(image.unsqueeze(0))  # Add batch dimension\n",
    "        prediction = torch.argmax(output).item()\n",
    "\n",
    "    plt.imshow(image.squeeze().numpy(), cmap='gray')\n",
    "    plt.title(f\"Predicted: {prediction}, Label: {label}\")\n",
    "    plt.axis('off')\n",
    "    plt.show()"
   ]
  },
  {
   "cell_type": "code",
   "execution_count": 12,
   "id": "af1f9e0e",
   "metadata": {
    "execution": {
     "iopub.execute_input": "2025-05-28T08:03:34.879173Z",
     "iopub.status.busy": "2025-05-28T08:03:34.878510Z",
     "iopub.status.idle": "2025-05-28T08:03:35.044891Z",
     "shell.execute_reply": "2025-05-28T08:03:35.044183Z"
    },
    "papermill": {
     "duration": 0.170925,
     "end_time": "2025-05-28T08:03:35.046106",
     "exception": false,
     "start_time": "2025-05-28T08:03:34.875181",
     "status": "completed"
    },
    "tags": []
   },
   "outputs": [
    {
     "data": {
      "image/png": "[encoded data removed]",
      "text/plain": [
       "<Figure size 640x480 with 1 Axes>"
      ]
     },
     "metadata": {},
     "output_type": "display_data"
    }
   ],
   "source": [
    "test_prediction(110)"
   ]
  }
 ],
 "metadata": {
  "kaggle": {
   "accelerator": "gpu",
   "dataSources": [
    {
     "databundleVersionId": 861823,
     "sourceId": 3004,
     "sourceType": "competition"
    }
   ],
   "dockerImageVersionId": 31041,
   "isGpuEnabled": true,
   "isInternetEnabled": true,
   "language": "python",
   "sourceType": "notebook"
  },
  "kernelspec": {
   "display_name": "Python 3",
   "language": "python",
   "name": "python3"
  },
  "language_info": {
   "codemirror_mode": {
    "name": "ipython",
    "version": 3
   },
   "file_extension": ".py",
   "mimetype": "text/x-python",
   "name": "python",
   "nbconvert_exporter": "python",
   "pygments_lexer": "ipython3",
   "version": "3.11.11"
  },
  "papermill": {
   "default_parameters": {},
   "duration": 176.390471,
   "end_time": "2025-05-28T08:03:38.051117",
   "environment_variables": {},
   "exception": null,
   "input_path": "__notebook__.ipynb",
   "output_path": "__notebook__.ipynb",
   "parameters": {},
   "start_time": "2025-05-28T08:00:41.660646",
   "version": "2.6.0"
  }
 },
 "nbformat": 4,
 "nbformat_minor": 5
}
