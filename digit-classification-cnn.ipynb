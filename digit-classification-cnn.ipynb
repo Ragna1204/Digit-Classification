{
 "cells": [
  {
   "cell_type": "code",
   "execution_count": 1,
   "id": "d17b4864",
   "metadata": {
    "_cell_guid": "b1076dfc-b9ad-4769-8c92-a6c4dae69d19",
    "_uuid": "8f2839f25d086af736a60e9eeb907d3b93b6e0e5",
    "execution": {
     "iopub.execute_input": "2025-05-31T04:03:51.087725Z",
     "iopub.status.busy": "2025-05-31T04:03:51.087446Z",
     "iopub.status.idle": "2025-05-31T04:03:59.274868Z",
     "shell.execute_reply": "2025-05-31T04:03:59.274309Z"
    },
    "papermill": {
     "duration": 8.193363,
     "end_time": "2025-05-31T04:03:59.276277",
     "exception": false,
     "start_time": "2025-05-31T04:03:51.082914",
     "status": "completed"
    },
    "tags": []
   },
   "outputs": [],
   "source": [
    "import numpy as np\n",
    "import pandas as pd\n",
    "import matplotlib.pyplot as plt\n",
    "import torch\n",
    "import torch.nn as nn\n",
    "import torch.nn.functional as F\n",
    "import torch.optim as optim\n",
    "from torch.utils.data import TensorDataset, DataLoader\n",
    "from sklearn.model_selection import train_test_split"
   ]
  },
  {
   "cell_type": "code",
   "execution_count": 2,
   "id": "fd211bdd",
   "metadata": {
    "execution": {
     "iopub.execute_input": "2025-05-31T04:03:59.282154Z",
     "iopub.status.busy": "2025-05-31T04:03:59.281605Z",
     "iopub.status.idle": "2025-05-31T04:04:02.608397Z",
     "shell.execute_reply": "2025-05-31T04:04:02.607707Z"
    },
    "papermill": {
     "duration": 3.330955,
     "end_time": "2025-05-31T04:04:02.609888",
     "exception": false,
     "start_time": "2025-05-31T04:03:59.278933",
     "status": "completed"
    },
    "tags": []
   },
   "outputs": [],
   "source": [
    "data = pd.read_csv(\"/kaggle/input/digit-recognizer/train.csv\").values\n",
    "np.random.shuffle(data)"
   ]
  },
  {
   "cell_type": "code",
   "execution_count": 3,
   "id": "e46f44fb",
   "metadata": {
    "execution": {
     "iopub.execute_input": "2025-05-31T04:04:02.615823Z",
     "iopub.status.busy": "2025-05-31T04:04:02.615545Z",
     "iopub.status.idle": "2025-05-31T04:04:02.725701Z",
     "shell.execute_reply": "2025-05-31T04:04:02.725067Z"
    },
    "papermill": {
     "duration": 0.114524,
     "end_time": "2025-05-31T04:04:02.727032",
     "exception": false,
     "start_time": "2025-05-31T04:04:02.612508",
     "status": "completed"
    },
    "tags": []
   },
   "outputs": [],
   "source": [
    "X = data[:, 1:] / 255.0\n",
    "Y = data[:, 0]\n",
    "#X: pixel data, normalized from [0, 255] to [0, 1]."
   ]
  },
  {
   "cell_type": "code",
   "execution_count": 4,
   "id": "64c95f38",
   "metadata": {
    "execution": {
     "iopub.execute_input": "2025-05-31T04:04:02.733436Z",
     "iopub.status.busy": "2025-05-31T04:04:02.732882Z",
     "iopub.status.idle": "2025-05-31T04:04:02.788743Z",
     "shell.execute_reply": "2025-05-31T04:04:02.788144Z"
    },
    "papermill": {
     "duration": 0.06044,
     "end_time": "2025-05-31T04:04:02.790142",
     "exception": false,
     "start_time": "2025-05-31T04:04:02.729702",
     "status": "completed"
    },
    "tags": []
   },
   "outputs": [],
   "source": [
    "X = X.reshape(-1, 1, 28, 28).astype(np.float32)\n",
    "Y = Y.astype(np.int64)\n",
    "# [batch_size, channels, height, width] = [N, 1, 28, 28]"
   ]
  },
  {
   "cell_type": "code",
   "execution_count": 5,
   "id": "adbf4ace",
   "metadata": {
    "execution": {
     "iopub.execute_input": "2025-05-31T04:04:02.795657Z",
     "iopub.status.busy": "2025-05-31T04:04:02.795395Z",
     "iopub.status.idle": "2025-05-31T04:04:03.209254Z",
     "shell.execute_reply": "2025-05-31T04:04:03.208571Z"
    },
    "papermill": {
     "duration": 0.418213,
     "end_time": "2025-05-31T04:04:03.210836",
     "exception": false,
     "start_time": "2025-05-31T04:04:02.792623",
     "status": "completed"
    },
    "tags": []
   },
   "outputs": [],
   "source": [
    "X_train, X_dev, Y_train, Y_dev = train_test_split(X, Y, test_size=0.1, random_state=42)\n",
    "# 90% for training, 10% for testing\n",
    "X_train_tensor = torch.tensor(X_train)\n",
    "Y_train_tensor = torch.tensor(Y_train)\n",
    "X_dev_tensor = torch.tensor(X_dev)\n",
    "Y_dev_tensor = torch.tensor(Y_dev)"
   ]
  },
  {
   "cell_type": "code",
   "execution_count": 6,
   "id": "9914095c",
   "metadata": {
    "execution": {
     "iopub.execute_input": "2025-05-31T04:04:03.216641Z",
     "iopub.status.busy": "2025-05-31T04:04:03.216156Z",
     "iopub.status.idle": "2025-05-31T04:04:03.223024Z",
     "shell.execute_reply": "2025-05-31T04:04:03.222502Z"
    },
    "papermill": {
     "duration": 0.010748,
     "end_time": "2025-05-31T04:04:03.224063",
     "exception": false,
     "start_time": "2025-05-31T04:04:03.213315",
     "status": "completed"
    },
    "tags": []
   },
   "outputs": [],
   "source": [
    "train_dataset = TensorDataset(X_train_tensor, Y_train_tensor)\n",
    "dev_dataset = TensorDataset(X_dev_tensor, Y_dev_tensor)\n",
    "\n",
    "train_loader = DataLoader(train_dataset, batch_size=64, shuffle=True)\n",
    "dev_loader = DataLoader(dev_dataset, batch_size=64, shuffle=False)\n",
    "#batch size 64 is batch training"
   ]
  },
  {
   "cell_type": "code",
   "execution_count": 7,
   "id": "0c47fedd",
   "metadata": {
    "execution": {
     "iopub.execute_input": "2025-05-31T04:04:03.228870Z",
     "iopub.status.busy": "2025-05-31T04:04:03.228697Z",
     "iopub.status.idle": "2025-05-31T04:04:03.234222Z",
     "shell.execute_reply": "2025-05-31T04:04:03.233660Z"
    },
    "papermill": {
     "duration": 0.009182,
     "end_time": "2025-05-31T04:04:03.235445",
     "exception": false,
     "start_time": "2025-05-31T04:04:03.226263",
     "status": "completed"
    },
    "tags": []
   },
   "outputs": [],
   "source": [
    "class CNN(nn.Module):\n",
    "    def __init__(self):\n",
    "        super(CNN, self).__init__()\n",
    "        self.conv1 = nn.Conv2d(1, 32, kernel_size=3, padding=1)\n",
    "        self.bn1 = nn.BatchNorm2d(32)\n",
    "        self.pool = nn.MaxPool2d(2, 2)\n",
    "        self.conv2 = nn.Conv2d(32, 64, kernel_size=3, padding=1)\n",
    "        self.bn2 = nn.BatchNorm2d(64)\n",
    "        self.fc1 = nn.Linear(64 * 7 * 7, 128)\n",
    "        self.bn3 = nn.BatchNorm1d(128)\n",
    "        self.fc2 = nn.Linear(128, 10)\n",
    "\n",
    "    def forward(self, x):\n",
    "        x = self.pool(F.relu(self.bn1(self.conv1(x))))  # Conv -> BN -> ReLU -> Pool\n",
    "        x = self.pool(F.relu(self.bn2(self.conv2(x))))  # Conv -> BN -> ReLU -> Pool\n",
    "        x = x.view(-1, 64 * 7 * 7)                      # Flatten\n",
    "        x = F.relu(self.bn3(self.fc1(x)))               # FC -> BN -> ReLU\n",
    "        x = self.fc2(x)                                 # Output layer (no activation)\n",
    "        return x"
   ]
  },
  {
   "cell_type": "code",
   "execution_count": 8,
   "id": "22b87978",
   "metadata": {
    "execution": {
     "iopub.execute_input": "2025-05-31T04:04:03.240386Z",
     "iopub.status.busy": "2025-05-31T04:04:03.239988Z",
     "iopub.status.idle": "2025-05-31T04:04:08.090351Z",
     "shell.execute_reply": "2025-05-31T04:04:08.089795Z"
    },
    "papermill": {
     "duration": 4.854313,
     "end_time": "2025-05-31T04:04:08.091725",
     "exception": false,
     "start_time": "2025-05-31T04:04:03.237412",
     "status": "completed"
    },
    "tags": []
   },
   "outputs": [],
   "source": [
    "model = CNN()\n",
    "criterion = nn.CrossEntropyLoss()\n",
    "optimizer = optim.Adam(model.parameters(), lr=0.001)"
   ]
  },
  {
   "cell_type": "code",
   "execution_count": 9,
   "id": "885e9592",
   "metadata": {
    "execution": {
     "iopub.execute_input": "2025-05-31T04:04:08.097301Z",
     "iopub.status.busy": "2025-05-31T04:04:08.096941Z",
     "iopub.status.idle": "2025-05-31T04:07:14.059338Z",
     "shell.execute_reply": "2025-05-31T04:07:14.058392Z"
    },
    "papermill": {
     "duration": 185.96859,
     "end_time": "2025-05-31T04:07:14.062787",
     "exception": false,
     "start_time": "2025-05-31T04:04:08.094197",
     "status": "completed"
    },
    "tags": []
   },
   "outputs": [
    {
     "name": "stdout",
     "output_type": "stream",
     "text": [
      "Epoch 1/10, Loss: 0.0100\n",
      "Epoch 2/10, Loss: 0.1031\n",
      "Epoch 3/10, Loss: 0.0267\n",
      "Epoch 4/10, Loss: 0.0010\n",
      "Epoch 5/10, Loss: 0.0091\n",
      "Epoch 6/10, Loss: 0.0003\n",
      "Epoch 7/10, Loss: 0.0017\n",
      "Epoch 8/10, Loss: 0.0431\n",
      "Epoch 9/10, Loss: 0.0001\n",
      "Epoch 10/10, Loss: 0.0369\n"
     ]
    }
   ],
   "source": [
    "epochs = 10\n",
    "for epoch in range(epochs):\n",
    "    model.train()\n",
    "    for X_batch, Y_batch in train_loader:\n",
    "        outputs = model(X_batch)\n",
    "        loss = criterion(outputs, Y_batch)\n",
    "\n",
    "        optimizer.zero_grad()\n",
    "        loss.backward()\n",
    "        optimizer.step()\n",
    "\n",
    "    print(f\"Epoch {epoch+1}/{epochs}, Loss: {loss.item():.4f}\")"
   ]
  },
  {
   "cell_type": "code",
   "execution_count": 10,
   "id": "b2fd5440",
   "metadata": {
    "execution": {
     "iopub.execute_input": "2025-05-31T04:07:14.069152Z",
     "iopub.status.busy": "2025-05-31T04:07:14.068633Z",
     "iopub.status.idle": "2025-05-31T04:07:14.888401Z",
     "shell.execute_reply": "2025-05-31T04:07:14.887569Z"
    },
    "papermill": {
     "duration": 0.824338,
     "end_time": "2025-05-31T04:07:14.889730",
     "exception": false,
     "start_time": "2025-05-31T04:07:14.065392",
     "status": "completed"
    },
    "tags": []
   },
   "outputs": [
    {
     "name": "stdout",
     "output_type": "stream",
     "text": [
      "Validation Accuracy: 99.00%\n"
     ]
    }
   ],
   "source": [
    "model.eval()\n",
    "correct = 0\n",
    "total = 0\n",
    "with torch.no_grad():\n",
    "    for X_batch, Y_batch in dev_loader:\n",
    "        outputs = model(X_batch)\n",
    "        _, predicted = torch.max(outputs, 1)\n",
    "        total += Y_batch.size(0)\n",
    "        correct += (predicted == Y_batch).sum().item()\n",
    "\n",
    "print(f\"Validation Accuracy: {100 * correct / total:.2f}%\")"
   ]
  },
  {
   "cell_type": "code",
   "execution_count": 11,
   "id": "b83dc183",
   "metadata": {
    "execution": {
     "iopub.execute_input": "2025-05-31T04:07:14.897444Z",
     "iopub.status.busy": "2025-05-31T04:07:14.897183Z",
     "iopub.status.idle": "2025-05-31T04:07:14.901672Z",
     "shell.execute_reply": "2025-05-31T04:07:14.901124Z"
    },
    "papermill": {
     "duration": 0.009409,
     "end_time": "2025-05-31T04:07:14.902716",
     "exception": false,
     "start_time": "2025-05-31T04:07:14.893307",
     "status": "completed"
    },
    "tags": []
   },
   "outputs": [],
   "source": [
    "def test_prediction(index):\n",
    "    image = X_dev_tensor[index]\n",
    "    label = Y_dev_tensor[index].item()\n",
    "\n",
    "    model.eval()\n",
    "    with torch.no_grad():\n",
    "        output = model(image.unsqueeze(0))  # Add batch dimension\n",
    "        prediction = torch.argmax(output).item()\n",
    "\n",
    "    plt.imshow(image.squeeze().numpy(), cmap='gray')\n",
    "    plt.title(f\"Predicted: {prediction}, Label: {label}\")\n",
    "    plt.axis('off')\n",
    "    plt.show()"
   ]
  },
  {
   "cell_type": "code",
   "execution_count": 12,
   "id": "43495a95",
   "metadata": {
    "execution": {
     "iopub.execute_input": "2025-05-31T04:07:14.908659Z",
     "iopub.status.busy": "2025-05-31T04:07:14.908439Z",
     "iopub.status.idle": "2025-05-31T04:07:15.077773Z",
     "shell.execute_reply": "2025-05-31T04:07:15.077066Z"
    },
    "papermill": {
     "duration": 0.173526,
     "end_time": "2025-05-31T04:07:15.078840",
     "exception": false,
     "start_time": "2025-05-31T04:07:14.905314",
     "status": "completed"
    },
    "tags": []
   },
   "outputs": [
    {
     "data": {
      "image/png": "[encoded data removed]",
      "text/plain": [
       "<Figure size 640x480 with 1 Axes>"
      ]
     },
     "metadata": {},
     "output_type": "display_data"
    }
   ],
   "source": [
    "test_prediction(110)"
   ]
  }
 ],
 "metadata": {
  "kaggle": {
   "accelerator": "gpu",
   "dataSources": [
    {
     "databundleVersionId": 861823,
     "sourceId": 3004,
     "sourceType": "competition"
    }
   ],
   "dockerImageVersionId": 31041,
   "isGpuEnabled": true,
   "isInternetEnabled": true,
   "language": "python",
   "sourceType": "notebook"
  },
  "kernelspec": {
   "display_name": "Python 3",
   "language": "python",
   "name": "python3"
  },
  "language_info": {
   "codemirror_mode": {
    "name": "ipython",
    "version": 3
   },
   "file_extension": ".py",
   "mimetype": "text/x-python",
   "name": "python",
   "nbconvert_exporter": "python",
   "pygments_lexer": "ipython3",
   "version": "3.11.11"
  },
  "papermill": {
   "default_parameters": {},
   "duration": 211.636135,
   "end_time": "2025-05-31T04:07:17.829667",
   "environment_variables": {},
   "exception": null,
   "input_path": "__notebook__.ipynb",
   "output_path": "__notebook__.ipynb",
   "parameters": {},
   "start_time": "2025-05-31T04:03:46.193532",
   "version": "2.6.0"
  }
 },
 "nbformat": 4,
 "nbformat_minor": 5
}
