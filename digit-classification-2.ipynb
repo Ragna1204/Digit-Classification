{
 "cells": [
  {
   "cell_type": "code",
   "execution_count": 1,
   "id": "5ec9ad7c",
   "metadata": {
    "_cell_guid": "b1076dfc-b9ad-4769-8c92-a6c4dae69d19",
    "_uuid": "8f2839f25d086af736a60e9eeb907d3b93b6e0e5",
    "execution": {
     "iopub.execute_input": "2025-05-28T14:28:33.967810Z",
     "iopub.status.busy": "2025-05-28T14:28:33.967172Z",
     "iopub.status.idle": "2025-05-28T14:28:35.438593Z",
     "shell.execute_reply": "2025-05-28T14:28:35.438057Z"
    },
    "papermill": {
     "duration": 1.47644,
     "end_time": "2025-05-28T14:28:35.439974",
     "exception": false,
     "start_time": "2025-05-28T14:28:33.963534",
     "status": "completed"
    },
    "tags": []
   },
   "outputs": [],
   "source": [
    "import numpy as np\n",
    "import pandas as pd\n",
    "from matplotlib import pyplot as plt"
   ]
  },
  {
   "cell_type": "code",
   "execution_count": 2,
   "id": "41a48ea1",
   "metadata": {
    "execution": {
     "iopub.execute_input": "2025-05-28T14:28:35.445419Z",
     "iopub.status.busy": "2025-05-28T14:28:35.445055Z",
     "iopub.status.idle": "2025-05-28T14:28:38.384116Z",
     "shell.execute_reply": "2025-05-28T14:28:38.383504Z"
    },
    "papermill": {
     "duration": 2.943076,
     "end_time": "2025-05-28T14:28:38.385524",
     "exception": false,
     "start_time": "2025-05-28T14:28:35.442448",
     "status": "completed"
    },
    "tags": []
   },
   "outputs": [],
   "source": [
    "data = pd.read_csv(\"/kaggle/input/digit-recognizer/train.csv\")"
   ]
  },
  {
   "cell_type": "code",
   "execution_count": 3,
   "id": "5e8e859a",
   "metadata": {
    "execution": {
     "iopub.execute_input": "2025-05-28T14:28:38.391023Z",
     "iopub.status.busy": "2025-05-28T14:28:38.390248Z",
     "iopub.status.idle": "2025-05-28T14:28:38.413118Z",
     "shell.execute_reply": "2025-05-28T14:28:38.412444Z"
    },
    "papermill": {
     "duration": 0.026538,
     "end_time": "2025-05-28T14:28:38.414308",
     "exception": false,
     "start_time": "2025-05-28T14:28:38.387770",
     "status": "completed"
    },
    "tags": []
   },
   "outputs": [
    {
     "data": {
      "text/html": [
       "<div>\n",
       "<style scoped>\n",
       "    .dataframe tbody tr th:only-of-type {\n",
       "        vertical-align: middle;\n",
       "    }\n",
       "\n",
       "    .dataframe tbody tr th {\n",
       "        vertical-align: top;\n",
       "    }\n",
       "\n",
       "    .dataframe thead th {\n",
       "        text-align: right;\n",
       "    }\n",
       "</style>\n",
       "<table border=\"1\" class=\"dataframe\">\n",
       "  <thead>\n",
       "    <tr style=\"text-align: right;\">\n",
       "      <th></th>\n",
       "      <th>label</th>\n",
       "      <th>pixel0</th>\n",
       "      <th>pixel1</th>\n",
       "      <th>pixel2</th>\n",
       "      <th>pixel3</th>\n",
       "      <th>pixel4</th>\n",
       "      <th>pixel5</th>\n",
       "      <th>pixel6</th>\n",
       "      <th>pixel7</th>\n",
       "      <th>pixel8</th>\n",
       "      <th>...</th>\n",
       "      <th>pixel774</th>\n",
       "      <th>pixel775</th>\n",
       "      <th>pixel776</th>\n",
       "      <th>pixel777</th>\n",
       "      <th>pixel778</th>\n",
       "      <th>pixel779</th>\n",
       "      <th>pixel780</th>\n",
       "      <th>pixel781</th>\n",
       "      <th>pixel782</th>\n",
       "      <th>pixel783</th>\n",
       "    </tr>\n",
       "  </thead>\n",
       "  <tbody>\n",
       "    <tr>\n",
       "      <th>0</th>\n",
       "      <td>1</td>\n",
       "      <td>0</td>\n",
       "      <td>0</td>\n",
       "      <td>0</td>\n",
       "      <td>0</td>\n",
       "      <td>0</td>\n",
       "      <td>0</td>\n",
       "      <td>0</td>\n",
       "      <td>0</td>\n",
       "      <td>0</td>\n",
       "      <td>...</td>\n",
       "      <td>0</td>\n",
       "      <td>0</td>\n",
       "      <td>0</td>\n",
       "      <td>0</td>\n",
       "      <td>0</td>\n",
       "      <td>0</td>\n",
       "      <td>0</td>\n",
       "      <td>0</td>\n",
       "      <td>0</td>\n",
       "      <td>0</td>\n",
       "    </tr>\n",
       "    <tr>\n",
       "      <th>1</th>\n",
       "      <td>0</td>\n",
       "      <td>0</td>\n",
       "      <td>0</td>\n",
       "      <td>0</td>\n",
       "      <td>0</td>\n",
       "      <td>0</td>\n",
       "      <td>0</td>\n",
       "      <td>0</td>\n",
       "      <td>0</td>\n",
       "      <td>0</td>\n",
       "      <td>...</td>\n",
       "      <td>0</td>\n",
       "      <td>0</td>\n",
       "      <td>0</td>\n",
       "      <td>0</td>\n",
       "      <td>0</td>\n",
       "      <td>0</td>\n",
       "      <td>0</td>\n",
       "      <td>0</td>\n",
       "      <td>0</td>\n",
       "      <td>0</td>\n",
       "    </tr>\n",
       "    <tr>\n",
       "      <th>2</th>\n",
       "      <td>1</td>\n",
       "      <td>0</td>\n",
       "      <td>0</td>\n",
       "      <td>0</td>\n",
       "      <td>0</td>\n",
       "      <td>0</td>\n",
       "      <td>0</td>\n",
       "      <td>0</td>\n",
       "      <td>0</td>\n",
       "      <td>0</td>\n",
       "      <td>...</td>\n",
       "      <td>0</td>\n",
       "      <td>0</td>\n",
       "      <td>0</td>\n",
       "      <td>0</td>\n",
       "      <td>0</td>\n",
       "      <td>0</td>\n",
       "      <td>0</td>\n",
       "      <td>0</td>\n",
       "      <td>0</td>\n",
       "      <td>0</td>\n",
       "    </tr>\n",
       "    <tr>\n",
       "      <th>3</th>\n",
       "      <td>4</td>\n",
       "      <td>0</td>\n",
       "      <td>0</td>\n",
       "      <td>0</td>\n",
       "      <td>0</td>\n",
       "      <td>0</td>\n",
       "      <td>0</td>\n",
       "      <td>0</td>\n",
       "      <td>0</td>\n",
       "      <td>0</td>\n",
       "      <td>...</td>\n",
       "      <td>0</td>\n",
       "      <td>0</td>\n",
       "      <td>0</td>\n",
       "      <td>0</td>\n",
       "      <td>0</td>\n",
       "      <td>0</td>\n",
       "      <td>0</td>\n",
       "      <td>0</td>\n",
       "      <td>0</td>\n",
       "      <td>0</td>\n",
       "    </tr>\n",
       "    <tr>\n",
       "      <th>4</th>\n",
       "      <td>0</td>\n",
       "      <td>0</td>\n",
       "      <td>0</td>\n",
       "      <td>0</td>\n",
       "      <td>0</td>\n",
       "      <td>0</td>\n",
       "      <td>0</td>\n",
       "      <td>0</td>\n",
       "      <td>0</td>\n",
       "      <td>0</td>\n",
       "      <td>...</td>\n",
       "      <td>0</td>\n",
       "      <td>0</td>\n",
       "      <td>0</td>\n",
       "      <td>0</td>\n",
       "      <td>0</td>\n",
       "      <td>0</td>\n",
       "      <td>0</td>\n",
       "      <td>0</td>\n",
       "      <td>0</td>\n",
       "      <td>0</td>\n",
       "    </tr>\n",
       "  </tbody>\n",
       "</table>\n",
       "<p>5 rows × 785 columns</p>\n",
       "</div>"
      ],
      "text/plain": [
       "   label  pixel0  pixel1  pixel2  pixel3  pixel4  pixel5  pixel6  pixel7  \\\n",
       "0      1       0       0       0       0       0       0       0       0   \n",
       "1      0       0       0       0       0       0       0       0       0   \n",
       "2      1       0       0       0       0       0       0       0       0   \n",
       "3      4       0       0       0       0       0       0       0       0   \n",
       "4      0       0       0       0       0       0       0       0       0   \n",
       "\n",
       "   pixel8  ...  pixel774  pixel775  pixel776  pixel777  pixel778  pixel779  \\\n",
       "0       0  ...         0         0         0         0         0         0   \n",
       "1       0  ...         0         0         0         0         0         0   \n",
       "2       0  ...         0         0         0         0         0         0   \n",
       "3       0  ...         0         0         0         0         0         0   \n",
       "4       0  ...         0         0         0         0         0         0   \n",
       "\n",
       "   pixel780  pixel781  pixel782  pixel783  \n",
       "0         0         0         0         0  \n",
       "1         0         0         0         0  \n",
       "2         0         0         0         0  \n",
       "3         0         0         0         0  \n",
       "4         0         0         0         0  \n",
       "\n",
       "[5 rows x 785 columns]"
      ]
     },
     "execution_count": 3,
     "metadata": {},
     "output_type": "execute_result"
    }
   ],
   "source": [
    "data.head()"
   ]
  },
  {
   "cell_type": "code",
   "execution_count": 4,
   "id": "9a78d3d0",
   "metadata": {
    "execution": {
     "iopub.execute_input": "2025-05-28T14:28:38.419647Z",
     "iopub.status.busy": "2025-05-28T14:28:38.419384Z",
     "iopub.status.idle": "2025-05-28T14:28:39.124606Z",
     "shell.execute_reply": "2025-05-28T14:28:39.123767Z"
    },
    "papermill": {
     "duration": 0.709785,
     "end_time": "2025-05-28T14:28:39.126388",
     "exception": false,
     "start_time": "2025-05-28T14:28:38.416603",
     "status": "completed"
    },
    "tags": []
   },
   "outputs": [],
   "source": [
    "data = np.array(data)\n",
    "m, n = data.shape\n",
    "np.random.shuffle(data)\n",
    "\n",
    "data_dev = data[0:1000].T\n",
    "Y_dev = data_dev[0]\n",
    "X_dev = data_dev[1:n]\n",
    "X_dev = X_dev / 255.\n",
    "\n",
    "data_train = data[1000:m].T\n",
    "Y_train = data_train[0]\n",
    "X_train = data_train[1:n]\n",
    "X_train = X_train / 255.\n",
    "_,m_train = X_train.shape"
   ]
  },
  {
   "cell_type": "code",
   "execution_count": 5,
   "id": "52d9a82d",
   "metadata": {
    "execution": {
     "iopub.execute_input": "2025-05-28T14:28:39.133624Z",
     "iopub.status.busy": "2025-05-28T14:28:39.132895Z",
     "iopub.status.idle": "2025-05-28T14:28:39.142119Z",
     "shell.execute_reply": "2025-05-28T14:28:39.141595Z"
    },
    "papermill": {
     "duration": 0.0139,
     "end_time": "2025-05-28T14:28:39.143220",
     "exception": false,
     "start_time": "2025-05-28T14:28:39.129320",
     "status": "completed"
    },
    "tags": []
   },
   "outputs": [],
   "source": [
    "def init_params():\n",
    "    W1 = np.random.randn(128, 784) * 0.01\n",
    "    b1 = np.zeros((128, 1))\n",
    "    W2 = np.random.randn(64, 128) * 0.01\n",
    "    b2 = np.zeros((64, 1))\n",
    "    W3 = np.random.randn(10, 64) * 0.01\n",
    "    b3 = np.zeros((10, 1))\n",
    "    return W1, b1, W2, b2, W3, b3\n",
    "\n",
    "def ReLU(Z):\n",
    "    return np.maximum(Z, 0)\n",
    "\n",
    "def softmax(Z):\n",
    "    A = np.exp(Z) / sum(np.exp(Z))\n",
    "    return A\n",
    "    \n",
    "def forward_prop(W1, b1, W2, b2, W3, b3, X):\n",
    "    Z1 = W1.dot(X) + b1\n",
    "    A1 = ReLU(Z1)\n",
    "    Z2 = W2.dot(A1) + b2\n",
    "    A2 = ReLU(Z2)\n",
    "    Z3 = W3.dot(A2) + b3\n",
    "    A3 = softmax(Z3)\n",
    "    return Z1, A1, Z2, A2, Z3, A3\n",
    "\n",
    "def ReLU_deriv(Z):\n",
    "    return Z > 0\n",
    "\n",
    "def one_hot(Y):\n",
    "    one_hot_Y = np.zeros((Y.size, Y.max() + 1))\n",
    "    one_hot_Y[np.arange(Y.size), Y] = 1\n",
    "    one_hot_Y = one_hot_Y.T\n",
    "    return one_hot_Y\n",
    "\n",
    "def backward_prop(Z1, A1, Z2, A2, Z3, A3, W1, W2, W3, X, Y):\n",
    "    one_hot_Y = one_hot(Y)\n",
    "    dZ3 = A3 - one_hot_Y\n",
    "    dW3 = 1 / m * dZ3.dot(A2.T)\n",
    "    db3 = 1 / m * np.sum(dZ3, axis=1, keepdims=True)\n",
    "\n",
    "    dZ2 = W3.T.dot(dZ3) * ReLU_deriv(Z2)\n",
    "    dW2 = 1 / m * dZ2.dot(A1.T)\n",
    "    db2 = 1 / m * np.sum(dZ2, axis=1, keepdims=True)\n",
    "\n",
    "    dZ1 = W2.T.dot(dZ2) * ReLU_deriv(Z1)\n",
    "    dW1 = 1 / m * dZ1.dot(X.T)\n",
    "    db1 = 1 / m * np.sum(dZ1, axis=1, keepdims=True)\n",
    "\n",
    "    return dW1, db1, dW2, db2, dW3, db3\n",
    "\n",
    "def update_params(W1, b1, W2, b2, W3, b3, dW1, db1, dW2, db2, dW3, db3, alpha):\n",
    "    W1 -= alpha * dW1\n",
    "    b1 -= alpha * db1\n",
    "    W2 -= alpha * dW2\n",
    "    b2 -= alpha * db2\n",
    "    W3 -= alpha * dW3\n",
    "    b3 -= alpha * db3\n",
    "    return W1, b1, W2, b2, W3, b3"
   ]
  },
  {
   "cell_type": "code",
   "execution_count": 6,
   "id": "d5bad150",
   "metadata": {
    "execution": {
     "iopub.execute_input": "2025-05-28T14:28:39.148134Z",
     "iopub.status.busy": "2025-05-28T14:28:39.147931Z",
     "iopub.status.idle": "2025-05-28T14:28:39.153114Z",
     "shell.execute_reply": "2025-05-28T14:28:39.152614Z"
    },
    "papermill": {
     "duration": 0.008777,
     "end_time": "2025-05-28T14:28:39.154135",
     "exception": false,
     "start_time": "2025-05-28T14:28:39.145358",
     "status": "completed"
    },
    "tags": []
   },
   "outputs": [],
   "source": [
    "def get_predictions(A2):\n",
    "    return np.argmax(A2, 0)\n",
    "\n",
    "def get_accuracy(predictions, Y):\n",
    "    print(predictions, Y)\n",
    "    return np.sum(predictions == Y) / Y.size\n",
    "    \n",
    "def gradient_decent(X, Y, alpha, iterations):\n",
    "    W1, b1, W2, b2, W3, b3 = init_params()\n",
    "    for i in range(iterations):\n",
    "        Z1, A1, Z2, A2, Z3, A3 = forward_prop(W1, b1, W2, b2, W3, b3, X)\n",
    "        dW1, db1, dW2, db2, dW3, db3 = backward_prop(Z1, A1, Z2, A2, Z3, A3, W1, W2, W3, X, Y)\n",
    "        W1, b1, W2, b2, W3, b3 = update_params(W1, b1, W2, b2, W3, b3, dW1, db1, dW2, db2, dW3, db3, alpha)\n",
    "        \n",
    "        if i % 10 == 0:\n",
    "            predictions = get_predictions(A3)\n",
    "            acc = get_accuracy(predictions, Y)\n",
    "            print(f\"Iteration: {i} Accuracy: {acc}\")\n",
    "    \n",
    "    return W1, b1, W2, b2, W3, b3"
   ]
  },
  {
   "cell_type": "code",
   "execution_count": 7,
   "id": "01183c12",
   "metadata": {
    "execution": {
     "iopub.execute_input": "2025-05-28T14:28:39.158907Z",
     "iopub.status.busy": "2025-05-28T14:28:39.158715Z",
     "iopub.status.idle": "2025-05-28T14:31:19.799368Z",
     "shell.execute_reply": "2025-05-28T14:31:19.798716Z"
    },
    "papermill": {
     "duration": 160.644707,
     "end_time": "2025-05-28T14:31:19.800858",
     "exception": false,
     "start_time": "2025-05-28T14:28:39.156151",
     "status": "completed"
    },
    "tags": []
   },
   "outputs": [
    {
     "name": "stdout",
     "output_type": "stream",
     "text": [
      "[8 8 8 ... 4 1 8] [2 6 3 ... 8 6 0]\n",
      "Iteration: 0 Accuracy: 0.10626829268292683\n",
      "[1 1 1 ... 1 1 1] [2 6 3 ... 8 6 0]\n",
      "Iteration: 10 Accuracy: 0.11190243902439025\n",
      "[1 1 1 ... 1 1 1] [2 6 3 ... 8 6 0]\n",
      "Iteration: 20 Accuracy: 0.11190243902439025\n",
      "[1 1 1 ... 1 1 1] [2 6 3 ... 8 6 0]\n",
      "Iteration: 30 Accuracy: 0.11190243902439025\n",
      "[1 1 1 ... 1 1 1] [2 6 3 ... 8 6 0]\n",
      "Iteration: 40 Accuracy: 0.11190243902439025\n",
      "[1 1 1 ... 1 1 1] [2 6 3 ... 8 6 0]\n",
      "Iteration: 50 Accuracy: 0.11190243902439025\n",
      "[1 1 1 ... 1 1 1] [2 6 3 ... 8 6 0]\n",
      "Iteration: 60 Accuracy: 0.11190243902439025\n",
      "[1 1 1 ... 1 1 1] [2 6 3 ... 8 6 0]\n",
      "Iteration: 70 Accuracy: 0.11190243902439025\n",
      "[1 1 1 ... 1 1 1] [2 6 3 ... 8 6 0]\n",
      "Iteration: 80 Accuracy: 0.11190243902439025\n",
      "[1 1 1 ... 1 1 1] [2 6 3 ... 8 6 0]\n",
      "Iteration: 90 Accuracy: 0.11190243902439025\n",
      "[1 1 1 ... 1 1 1] [2 6 3 ... 8 6 0]\n",
      "Iteration: 100 Accuracy: 0.11190243902439025\n",
      "[1 1 1 ... 1 1 1] [2 6 3 ... 8 6 0]\n",
      "Iteration: 110 Accuracy: 0.11190243902439025\n",
      "[1 1 1 ... 1 1 1] [2 6 3 ... 8 6 0]\n",
      "Iteration: 120 Accuracy: 0.11190243902439025\n",
      "[1 1 1 ... 1 1 1] [2 6 3 ... 8 6 0]\n",
      "Iteration: 130 Accuracy: 0.11190243902439025\n",
      "[1 1 1 ... 1 1 1] [2 6 3 ... 8 6 0]\n",
      "Iteration: 140 Accuracy: 0.1648048780487805\n",
      "[1 1 1 ... 0 1 0] [2 6 3 ... 8 6 0]\n",
      "Iteration: 150 Accuracy: 0.20885365853658536\n",
      "[0 0 0 ... 0 0 0] [2 6 3 ... 8 6 0]\n",
      "Iteration: 160 Accuracy: 0.2106341463414634\n",
      "[0 0 0 ... 0 0 0] [2 6 3 ... 8 6 0]\n",
      "Iteration: 170 Accuracy: 0.21209756097560975\n",
      "[0 0 0 ... 0 0 0] [2 6 3 ... 8 6 0]\n",
      "Iteration: 180 Accuracy: 0.23121951219512196\n",
      "[0 0 3 ... 3 0 0] [2 6 3 ... 8 6 0]\n",
      "Iteration: 190 Accuracy: 0.26746341463414636\n",
      "[6 6 3 ... 3 3 0] [2 6 3 ... 8 6 0]\n",
      "Iteration: 200 Accuracy: 0.33521951219512197\n",
      "[6 6 3 ... 8 3 0] [2 6 3 ... 8 6 0]\n",
      "Iteration: 210 Accuracy: 0.4911219512195122\n",
      "[6 6 3 ... 8 2 0] [2 6 3 ... 8 6 0]\n",
      "Iteration: 220 Accuracy: 0.5795365853658536\n",
      "[2 6 3 ... 8 2 0] [2 6 3 ... 8 6 0]\n",
      "Iteration: 230 Accuracy: 0.6105609756097561\n",
      "[2 6 3 ... 8 2 0] [2 6 3 ... 8 6 0]\n",
      "Iteration: 240 Accuracy: 0.6467317073170732\n",
      "[2 6 3 ... 8 5 0] [2 6 3 ... 8 6 0]\n",
      "Iteration: 250 Accuracy: 0.6775365853658537\n",
      "[2 6 3 ... 8 5 0] [2 6 3 ... 8 6 0]\n",
      "Iteration: 260 Accuracy: 0.6978292682926829\n",
      "[2 6 3 ... 8 5 0] [2 6 3 ... 8 6 0]\n",
      "Iteration: 270 Accuracy: 0.6436585365853659\n",
      "[2 6 3 ... 8 5 0] [2 6 3 ... 8 6 0]\n",
      "Iteration: 280 Accuracy: 0.7683170731707317\n",
      "[2 6 3 ... 8 5 0] [2 6 3 ... 8 6 0]\n",
      "Iteration: 290 Accuracy: 0.7847560975609756\n",
      "[2 6 3 ... 8 5 0] [2 6 3 ... 8 6 0]\n",
      "Iteration: 300 Accuracy: 0.7122682926829268\n",
      "[2 6 3 ... 8 5 0] [2 6 3 ... 8 6 0]\n",
      "Iteration: 310 Accuracy: 0.7962926829268293\n",
      "[2 6 3 ... 8 5 0] [2 6 3 ... 8 6 0]\n",
      "Iteration: 320 Accuracy: 0.8119268292682927\n",
      "[2 6 3 ... 8 5 0] [2 6 3 ... 8 6 0]\n",
      "Iteration: 330 Accuracy: 0.7918780487804878\n",
      "[2 6 3 ... 8 5 0] [2 6 3 ... 8 6 0]\n",
      "Iteration: 340 Accuracy: 0.8180731707317073\n",
      "[2 6 3 ... 8 5 0] [2 6 3 ... 8 6 0]\n",
      "Iteration: 350 Accuracy: 0.8378048780487805\n",
      "[2 6 3 ... 8 5 0] [2 6 3 ... 8 6 0]\n",
      "Iteration: 360 Accuracy: 0.8401219512195122\n",
      "[2 6 3 ... 8 5 0] [2 6 3 ... 8 6 0]\n",
      "Iteration: 370 Accuracy: 0.8395853658536585\n",
      "[2 6 3 ... 8 5 0] [2 6 3 ... 8 6 0]\n",
      "Iteration: 380 Accuracy: 0.8531463414634146\n",
      "[2 6 3 ... 8 5 0] [2 6 3 ... 8 6 0]\n",
      "Iteration: 390 Accuracy: 0.8634146341463415\n",
      "[2 6 3 ... 8 5 0] [2 6 3 ... 8 6 0]\n",
      "Iteration: 400 Accuracy: 0.8680975609756097\n",
      "[2 6 3 ... 8 5 0] [2 6 3 ... 8 6 0]\n",
      "Iteration: 410 Accuracy: 0.8704878048780488\n",
      "[2 6 3 ... 8 5 0] [2 6 3 ... 8 6 0]\n",
      "Iteration: 420 Accuracy: 0.8718536585365854\n",
      "[2 6 3 ... 8 6 0] [2 6 3 ... 8 6 0]\n",
      "Iteration: 430 Accuracy: 0.8766585365853659\n",
      "[2 6 3 ... 8 6 0] [2 6 3 ... 8 6 0]\n",
      "Iteration: 440 Accuracy: 0.8837560975609756\n",
      "[2 6 3 ... 8 6 0] [2 6 3 ... 8 6 0]\n",
      "Iteration: 450 Accuracy: 0.8884146341463415\n",
      "[2 6 3 ... 8 6 0] [2 6 3 ... 8 6 0]\n",
      "Iteration: 460 Accuracy: 0.8915609756097561\n",
      "[2 6 3 ... 8 6 0] [2 6 3 ... 8 6 0]\n",
      "Iteration: 470 Accuracy: 0.8934390243902439\n",
      "[2 6 3 ... 8 6 0] [2 6 3 ... 8 6 0]\n",
      "Iteration: 480 Accuracy: 0.8947804878048781\n",
      "[2 6 3 ... 8 6 0] [2 6 3 ... 8 6 0]\n",
      "Iteration: 490 Accuracy: 0.8962439024390244\n"
     ]
    }
   ],
   "source": [
    "W1, b1, W2, b2, W3, b3 = gradient_decent(X_train, Y_train, alpha=0.2, iterations=500)\n"
   ]
  },
  {
   "cell_type": "code",
   "execution_count": 8,
   "id": "79fffc82",
   "metadata": {
    "execution": {
     "iopub.execute_input": "2025-05-28T14:31:19.810819Z",
     "iopub.status.busy": "2025-05-28T14:31:19.810126Z",
     "iopub.status.idle": "2025-05-28T14:31:19.815734Z",
     "shell.execute_reply": "2025-05-28T14:31:19.815104Z"
    },
    "papermill": {
     "duration": 0.011601,
     "end_time": "2025-05-28T14:31:19.816946",
     "exception": false,
     "start_time": "2025-05-28T14:31:19.805345",
     "status": "completed"
    },
    "tags": []
   },
   "outputs": [],
   "source": [
    "def make_predictions(X, W1, b1, W2, b2, W3, b3):\n",
    "    _, _, _, _, _, A3 = forward_prop(W1, b1, W2, b2, W3, b3, X)\n",
    "    return get_predictions(A3)\n",
    "\n",
    "def test_prediction(index, W1, b1, W2, b2, W3, b3):\n",
    "    current_image = X_train[:, index, None]\n",
    "    prediction = make_predictions(current_image, W1, b1, W2, b2, W3, b3)\n",
    "    label = Y_train[index]\n",
    "    print(\"Prediction: \", prediction)\n",
    "    print(\"Label: \", label)\n",
    "    plt.imshow(current_image.reshape(28, 28) * 255, cmap='gray')\n",
    "    plt.show()\n",
    "    \n",
    "    current_image = current_image.reshape((28, 28)) * 255\n",
    "    plt.gray()\n",
    "    plt.imshow(current_image, interpolation='nearest')\n",
    "    plt.show()"
   ]
  },
  {
   "cell_type": "code",
   "execution_count": 9,
   "id": "9ec9e4e0",
   "metadata": {
    "execution": {
     "iopub.execute_input": "2025-05-28T14:31:19.825670Z",
     "iopub.status.busy": "2025-05-28T14:31:19.825254Z",
     "iopub.status.idle": "2025-05-28T14:31:20.161819Z",
     "shell.execute_reply": "2025-05-28T14:31:20.161153Z"
    },
    "papermill": {
     "duration": 0.342058,
     "end_time": "2025-05-28T14:31:20.162909",
     "exception": false,
     "start_time": "2025-05-28T14:31:19.820851",
     "status": "completed"
    },
    "tags": []
   },
   "outputs": [
    {
     "name": "stdout",
     "output_type": "stream",
     "text": [
      "Prediction:  [8]\n",
      "Label:  8\n"
     ]
    },
    {
     "data": {
      "image/png": "[encoded data removed]",
      "text/plain": [
       "<Figure size 640x480 with 1 Axes>"
      ]
     },
     "metadata": {},
     "output_type": "display_data"
    },
    {
     "data": {
      "image/png": "[encoded data removed]",
      "text/plain": [
       "<Figure size 640x480 with 1 Axes>"
      ]
     },
     "metadata": {},
     "output_type": "display_data"
    }
   ],
   "source": [
    "test_prediction(197, W1, b1, W2, b2, W3, b3)"
   ]
  }
 ],
 "metadata": {
  "kaggle": {
   "accelerator": "gpu",
   "dataSources": [
    {
     "databundleVersionId": 861823,
     "sourceId": 3004,
     "sourceType": "competition"
    }
   ],
   "dockerImageVersionId": 31041,
   "isGpuEnabled": true,
   "isInternetEnabled": true,
   "language": "python",
   "sourceType": "notebook"
  },
  "kernelspec": {
   "display_name": "Python 3",
   "language": "python",
   "name": "python3"
  },
  "language_info": {
   "codemirror_mode": {
    "name": "ipython",
    "version": 3
   },
   "file_extension": ".py",
   "mimetype": "text/x-python",
   "name": "python",
   "nbconvert_exporter": "python",
   "pygments_lexer": "ipython3",
   "version": "3.11.11"
  },
  "papermill": {
   "default_parameters": {},
   "duration": 170.821285,
   "end_time": "2025-05-28T14:31:20.585027",
   "environment_variables": {},
   "exception": null,
   "input_path": "__notebook__.ipynb",
   "output_path": "__notebook__.ipynb",
   "parameters": {},
   "start_time": "2025-05-28T14:28:29.763742",
   "version": "2.6.0"
  }
 },
 "nbformat": 4,
 "nbformat_minor": 5
}
